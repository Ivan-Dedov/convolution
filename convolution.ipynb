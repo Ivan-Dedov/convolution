{
  "nbformat": 4,
  "nbformat_minor": 0,
  "metadata": {
    "colab": {
      "provenance": []
    },
    "kernelspec": {
      "name": "python3",
      "display_name": "Python 3"
    },
    "language_info": {
      "name": "python"
    }
  },
  "cells": [
    {
      "cell_type": "code",
      "execution_count": 1,
      "metadata": {
        "id": "lhJUvjxztlLp"
      },
      "outputs": [],
      "source": [
        "import numpy as np"
      ]
    },
    {
      "cell_type": "code",
      "source": [
        "# Формула расчета количества элементов по оси после свертки:\n",
        "#\n",
        "#   N = (N_in - N_kernel + 2 * N_pad) / N_stride + 1, где:\n",
        "#\n",
        "# * N_in - число \"пикселей\" входного изображения по оси,\n",
        "# * N_kernel - число элементов ядра по оси,\n",
        "# * N_pad - размер паддинга по оси (учитвая, что до и после \"настоящих\" элементов его размер одинаков),\n",
        "# * N_stride - величина шага по оси.\n",
        "#\n",
        "# Однако здесь мы считаем, что в матрице нет паддинга,\n",
        "# так как ее можно просто изменить перед началом свертки.\n",
        "def get_result_dimension(matrix_dim, kernel_dim, stride_dim):\n",
        "    return (matrix_dim - kernel_dim) // stride_dim + 1\n",
        "\n",
        "\n",
        "# Преобразовывает несколько участков матриц в одну матрицу, где исходные части являются вектор-столбцами.\n",
        "def get_p(matrix_slices):\n",
        "    return np.concatenate([matrix_slice.reshape(matrix_slice.size, 1) for matrix_slice in matrix_slices], axis=1)\n",
        "\n",
        "\n",
        "# Получает все части матриц, которые понадобятся для свертки, в виде вектор-столбцов.\n",
        "#\n",
        "# Параметры:\n",
        "# * matrix - матрица для свертки;\n",
        "# * kernel_dim - 3 элемента, указывающие на размерность ядра (каналы, высота, ширина);\n",
        "# * result_dim - 3 элемента, указывающие на размерность результата (каналы, высота, ширина);\n",
        "# * stride - 3 элемента, указывающие на размер шага (по каналу, высоте и ширине).\n",
        "def get_submatrices(matrix, kernel_dim, result_dim, stride):\n",
        "    result = []\n",
        "\n",
        "    # Идем по строкам матрицы\n",
        "    x = 0\n",
        "    for i in range(result_dim[1]):\n",
        "        # Идем по элементам строки\n",
        "        y = 0\n",
        "        for j in range(result_dim[2]):\n",
        "            # Получаем \"кубический срез\" по всем каналам, учиытвая размерность ядра свертки\n",
        "            result.append(matrix[:, x : x + kernel_dim[1], y : y + kernel_dim[2]])\n",
        "            y += stride[2]\n",
        "        x += stride[1]\n",
        "\n",
        "    # Выпрямляем кусочки матрицы и выстраиваем их в вектор-столбцы\n",
        "    return get_p(result)\n",
        "\n",
        "\n",
        "# Производит операцию свертки над изображением с C каналами, размером H x W пикселей,\n",
        "# используя ядро размера H_k x W_k.\n",
        "#\n",
        "# Параметры:\n",
        "# * matrix - исходное изображение размерности (C, H, W);\n",
        "# * kernel - ядро свертки размерности (C, H_k, W_k);\n",
        "# * padding - величина паддинга - тупл с 3 элементами: величина паддинга по оси каналов, по высоте и ширине;\n",
        "# * stride - величина шага - тупл с 3 элементами: величина шага по оси каналов, по высоте и ширине.\n",
        "def convolve(matrix, kernel, padding, stride):\n",
        "\n",
        "    # Дополняем матрицу нулями, если нужно\n",
        "    padded_matrix = np.pad(matrix, [(padding[i], ) for i in range(matrix.shape[0])], mode='constant', constant_values=0)\n",
        "\n",
        "    # Рассчитываем размерности новой исходной картинки, ядра и результирующей матрицы\n",
        "    matrix_dim = padded_matrix.shape\n",
        "    kernel_dim = kernel.shape\n",
        "    result_dim = [get_result_dimension(matrix_dim[i], kernel_dim[i], stride[i]) for i in range(matrix.shape[0])]\n",
        "\n",
        "    # \"Спрямляем\" ядро\n",
        "    K = kernel.reshape(1, kernel.size)\n",
        "\n",
        "    # Получаем \"подматрицы\" исходного изображения для проведения умножения в виде вектор-столбцов\n",
        "    P = get_submatrices(padded_matrix, kernel_dim, result_dim, stride)\n",
        "\n",
        "    # Умножаем\n",
        "    result = np.matmul(K, P)\n",
        "\n",
        "    # Зная размерность результата, собираем его из получившейся на предыдущем шаге матрицы\n",
        "    return result.reshape(result_dim[0], result_dim[1], result_dim[2])"
      ],
      "metadata": {
        "id": "2U_aitszCiaS"
      },
      "execution_count": 106,
      "outputs": []
    },
    {
      "cell_type": "code",
      "source": [
        "X = np.array([[[1, 2, 3, 4],\n",
        "               [5, 6, 7, 8],\n",
        "               [9, 10, 11, 12],\n",
        "               [13, 14, 15, 16]],\n",
        "              [[17, 18, 19, 20],\n",
        "               [21, 22, 23, 24],\n",
        "               [25, 26, 27, 28],\n",
        "               [29, 30, 31, 32]],\n",
        "              [[33, 34, 35, 36],\n",
        "               [37, 38, 39, 40],\n",
        "               [41, 42, 43, 44],\n",
        "               [45, 46, 47, 48]]])\n",
        "\n",
        "W = np.array([[[1, 2],\n",
        "               [3, 4]],\n",
        "              [[5, 6],\n",
        "               [7, 8]],\n",
        "              [[9, 10],\n",
        "               [11, 12]]])\n",
        "\n",
        "convolve(X, W, padding=(0, 0, 0), stride=(1, 1, 1))"
      ],
      "metadata": {
        "colab": {
          "base_uri": "https://localhost:8080/",
          "height": 277
        },
        "id": "25vewsAYKWSS",
        "outputId": "f0d7eafc-0fa5-4431-aeb4-1cc294a959bb"
      },
      "execution_count": 107,
      "outputs": [
        {
          "output_type": "display_data",
          "data": {
            "text/plain": [
              "array([[ 1,  2,  3,  5,  6,  7,  9, 10, 11],\n",
              "       [ 2,  3,  4,  6,  7,  8, 10, 11, 12],\n",
              "       [ 5,  6,  7,  9, 10, 11, 13, 14, 15],\n",
              "       [ 6,  7,  8, 10, 11, 12, 14, 15, 16],\n",
              "       [17, 18, 19, 21, 22, 23, 25, 26, 27],\n",
              "       [18, 19, 20, 22, 23, 24, 26, 27, 28],\n",
              "       [21, 22, 23, 25, 26, 27, 29, 30, 31],\n",
              "       [22, 23, 24, 26, 27, 28, 30, 31, 32],\n",
              "       [33, 34, 35, 37, 38, 39, 41, 42, 43],\n",
              "       [34, 35, 36, 38, 39, 40, 42, 43, 44],\n",
              "       [37, 38, 39, 41, 42, 43, 45, 46, 47],\n",
              "       [38, 39, 40, 42, 43, 44, 46, 47, 48]])"
            ]
          },
          "metadata": {}
        },
        {
          "output_type": "execute_result",
          "data": {
            "text/plain": [
              "array([[[2060, 2138, 2216],\n",
              "        [2372, 2450, 2528],\n",
              "        [2684, 2762, 2840]]])"
            ]
          },
          "metadata": {},
          "execution_count": 107
        }
      ]
    }
  ]
}